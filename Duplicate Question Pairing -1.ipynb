{
 "cells": [
  {
   "cell_type": "markdown",
   "id": "8d690cdb",
   "metadata": {},
   "source": [
    "# Duplicate Question Pairing (Quora Dataset)"
   ]
  },
  {
   "cell_type": "code",
   "execution_count": 1,
   "id": "522cb564",
   "metadata": {},
   "outputs": [],
   "source": [
    "import numpy as np\n",
    "import pandas as pd\n",
    "import seaborn as sns\n",
    "import matplotlib.pyplot as plt"
   ]
  },
  {
   "cell_type": "code",
   "execution_count": 2,
   "id": "ffb50a64",
   "metadata": {},
   "outputs": [],
   "source": [
    "df = pd.read_csv(r\"C:\\Users\\Dell\\OneDrive\\Desktop\\SEMESTERS\\All_DS Projects\\NLP\\quora_question_pairs_train.csv\")"
   ]
  },
  {
   "cell_type": "code",
   "execution_count": 3,
   "id": "986eb877",
   "metadata": {},
   "outputs": [
    {
     "data": {
      "text/plain": [
       "(404290, 6)"
      ]
     },
     "execution_count": 3,
     "metadata": {},
     "output_type": "execute_result"
    }
   ],
   "source": [
    "df.shape"
   ]
  },
  {
   "cell_type": "code",
   "execution_count": 4,
   "id": "673bed55",
   "metadata": {},
   "outputs": [
    {
     "data": {
      "text/html": [
       "<div>\n",
       "<style scoped>\n",
       "    .dataframe tbody tr th:only-of-type {\n",
       "        vertical-align: middle;\n",
       "    }\n",
       "\n",
       "    .dataframe tbody tr th {\n",
       "        vertical-align: top;\n",
       "    }\n",
       "\n",
       "    .dataframe thead th {\n",
       "        text-align: right;\n",
       "    }\n",
       "</style>\n",
       "<table border=\"1\" class=\"dataframe\">\n",
       "  <thead>\n",
       "    <tr style=\"text-align: right;\">\n",
       "      <th></th>\n",
       "      <th>id</th>\n",
       "      <th>qid1</th>\n",
       "      <th>qid2</th>\n",
       "      <th>question1</th>\n",
       "      <th>question2</th>\n",
       "      <th>is_duplicate</th>\n",
       "    </tr>\n",
       "  </thead>\n",
       "  <tbody>\n",
       "    <tr>\n",
       "      <th>0</th>\n",
       "      <td>0</td>\n",
       "      <td>1</td>\n",
       "      <td>2</td>\n",
       "      <td>What is the step by step guide to invest in sh...</td>\n",
       "      <td>What is the step by step guide to invest in sh...</td>\n",
       "      <td>0</td>\n",
       "    </tr>\n",
       "    <tr>\n",
       "      <th>1</th>\n",
       "      <td>1</td>\n",
       "      <td>3</td>\n",
       "      <td>4</td>\n",
       "      <td>What is the story of Kohinoor (Koh-i-Noor) Dia...</td>\n",
       "      <td>What would happen if the Indian government sto...</td>\n",
       "      <td>0</td>\n",
       "    </tr>\n",
       "    <tr>\n",
       "      <th>2</th>\n",
       "      <td>2</td>\n",
       "      <td>5</td>\n",
       "      <td>6</td>\n",
       "      <td>How can I increase the speed of my internet co...</td>\n",
       "      <td>How can Internet speed be increased by hacking...</td>\n",
       "      <td>0</td>\n",
       "    </tr>\n",
       "    <tr>\n",
       "      <th>3</th>\n",
       "      <td>3</td>\n",
       "      <td>7</td>\n",
       "      <td>8</td>\n",
       "      <td>Why am I mentally very lonely? How can I solve...</td>\n",
       "      <td>Find the remainder when [math]23^{24}[/math] i...</td>\n",
       "      <td>0</td>\n",
       "    </tr>\n",
       "    <tr>\n",
       "      <th>4</th>\n",
       "      <td>4</td>\n",
       "      <td>9</td>\n",
       "      <td>10</td>\n",
       "      <td>Which one dissolve in water quikly sugar, salt...</td>\n",
       "      <td>Which fish would survive in salt water?</td>\n",
       "      <td>0</td>\n",
       "    </tr>\n",
       "  </tbody>\n",
       "</table>\n",
       "</div>"
      ],
      "text/plain": [
       "   id  qid1  qid2                                          question1  \\\n",
       "0   0     1     2  What is the step by step guide to invest in sh...   \n",
       "1   1     3     4  What is the story of Kohinoor (Koh-i-Noor) Dia...   \n",
       "2   2     5     6  How can I increase the speed of my internet co...   \n",
       "3   3     7     8  Why am I mentally very lonely? How can I solve...   \n",
       "4   4     9    10  Which one dissolve in water quikly sugar, salt...   \n",
       "\n",
       "                                           question2  is_duplicate  \n",
       "0  What is the step by step guide to invest in sh...             0  \n",
       "1  What would happen if the Indian government sto...             0  \n",
       "2  How can Internet speed be increased by hacking...             0  \n",
       "3  Find the remainder when [math]23^{24}[/math] i...             0  \n",
       "4            Which fish would survive in salt water?             0  "
      ]
     },
     "execution_count": 4,
     "metadata": {},
     "output_type": "execute_result"
    }
   ],
   "source": [
    "df.head()"
   ]
  },
  {
   "cell_type": "code",
   "execution_count": 18,
   "id": "7bea1dd7",
   "metadata": {},
   "outputs": [],
   "source": [
    "new_df = df.sample(30000)   # random rows generated"
   ]
  },
  {
   "cell_type": "code",
   "execution_count": 19,
   "id": "aa89c46a",
   "metadata": {},
   "outputs": [
    {
     "name": "stdout",
     "output_type": "stream",
     "text": [
      "<class 'pandas.core.frame.DataFrame'>\n",
      "Int64Index: 30000 entries, 367910 to 34881\n",
      "Data columns (total 8 columns):\n",
      " #   Column        Non-Null Count  Dtype  \n",
      "---  ------        --------------  -----  \n",
      " 0   id            30000 non-null  int64  \n",
      " 1   qid1          30000 non-null  int64  \n",
      " 2   qid2          30000 non-null  int64  \n",
      " 3   question1     30000 non-null  object \n",
      " 4   question2     29999 non-null  object \n",
      " 5   is_duplicate  30000 non-null  int64  \n",
      " 6   q1_len        30000 non-null  float64\n",
      " 7   q2_len        29999 non-null  float64\n",
      "dtypes: float64(2), int64(4), object(2)\n",
      "memory usage: 2.1+ MB\n"
     ]
    }
   ],
   "source": [
    "new_df.info()"
   ]
  },
  {
   "cell_type": "code",
   "execution_count": 20,
   "id": "86d0e01f",
   "metadata": {},
   "outputs": [
    {
     "data": {
      "text/plain": [
       "id              0\n",
       "qid1            0\n",
       "qid2            0\n",
       "question1       0\n",
       "question2       1\n",
       "is_duplicate    0\n",
       "q1_len          0\n",
       "q2_len          1\n",
       "dtype: int64"
      ]
     },
     "execution_count": 20,
     "metadata": {},
     "output_type": "execute_result"
    }
   ],
   "source": [
    "# missing values\n",
    "new_df.isnull().sum()"
   ]
  },
  {
   "cell_type": "code",
   "execution_count": 22,
   "id": "e551b262",
   "metadata": {},
   "outputs": [
    {
     "data": {
      "text/plain": [
       "0"
      ]
     },
     "execution_count": 22,
     "metadata": {},
     "output_type": "execute_result"
    }
   ],
   "source": [
    "# duplicate roes\n",
    "new_df.duplicated().sum()"
   ]
  },
  {
   "cell_type": "code",
   "execution_count": 23,
   "id": "f1ebba97",
   "metadata": {},
   "outputs": [
    {
     "name": "stdout",
     "output_type": "stream",
     "text": [
      "0    19057\n",
      "1    10943\n",
      "Name: is_duplicate, dtype: int64\n",
      "0    63.523333\n",
      "1    36.476667\n",
      "Name: is_duplicate, dtype: float64\n"
     ]
    },
    {
     "data": {
      "text/plain": [
       "<Axes: >"
      ]
     },
     "execution_count": 23,
     "metadata": {},
     "output_type": "execute_result"
    },
    {
     "data": {
      "image/png": "[encoded data removed]",
      "text/plain": [
       "<Figure size 640x480 with 1 Axes>"
      ]
     },
     "metadata": {},
     "output_type": "display_data"
    }
   ],
   "source": [
    "# Distribution of duplicate and non-duplicate questions\n",
    "\n",
    "print(new_df['is_duplicate'].value_counts())\n",
    "print((new_df['is_duplicate'].value_counts()/new_df['is_duplicate'].count())*100)\n",
    "new_df['is_duplicate'].value_counts().plot(kind='bar')"
   ]
  },
  {
   "cell_type": "code",
   "execution_count": 24,
   "id": "817732ec",
   "metadata": {},
   "outputs": [
    {
     "name": "stdout",
     "output_type": "stream",
     "text": [
      "Number of unique questions 55534\n",
      "Number of questions getting repeated 3320\n"
     ]
    }
   ],
   "source": [
    "# Repeated questions\n",
    "\n",
    "qid = pd.Series(new_df['qid1'].tolist() + new_df['qid2'].tolist())\n",
    "print('Number of unique questions',np.unique(qid).shape[0])\n",
    "x = qid.value_counts()>1\n",
    "print('Number of questions getting repeated',x[x].shape[0])"
   ]
  },
  {
   "cell_type": "code",
   "execution_count": 25,
   "id": "f0b0d90f",
   "metadata": {},
   "outputs": [
    {
     "data": {
      "image/png": "[encoded data removed]",
      "text/plain": [
       "<Figure size 640x480 with 1 Axes>"
      ]
     },
     "metadata": {},
     "output_type": "display_data"
    }
   ],
   "source": [
    "# Repeated questions histogram\n",
    "\n",
    "plt.hist(qid.value_counts().values,bins=160)\n",
    "plt.yscale('log')\n",
    "plt.show()"
   ]
  },
  {
   "cell_type": "code",
   "execution_count": 26,
   "id": "d430260c",
   "metadata": {},
   "outputs": [],
   "source": [
    "# Feature Engineering\n",
    "\n",
    "new_df['q1_len'] = new_df['question1'].str.len() \n",
    "new_df['q2_len'] = new_df['question2'].str.len()"
   ]
  },
  {
   "cell_type": "code",
   "execution_count": 27,
   "id": "0d6c2101",
   "metadata": {},
   "outputs": [
    {
     "data": {
      "text/html": [
       "<div>\n",
       "<style scoped>\n",
       "    .dataframe tbody tr th:only-of-type {\n",
       "        vertical-align: middle;\n",
       "    }\n",
       "\n",
       "    .dataframe tbody tr th {\n",
       "        vertical-align: top;\n",
       "    }\n",
       "\n",
       "    .dataframe thead th {\n",
       "        text-align: right;\n",
       "    }\n",
       "</style>\n",
       "<table border=\"1\" class=\"dataframe\">\n",
       "  <thead>\n",
       "    <tr style=\"text-align: right;\">\n",
       "      <th></th>\n",
       "      <th>id</th>\n",
       "      <th>qid1</th>\n",
       "      <th>qid2</th>\n",
       "      <th>question1</th>\n",
       "      <th>question2</th>\n",
       "      <th>is_duplicate</th>\n",
       "      <th>q1_len</th>\n",
       "      <th>q2_len</th>\n",
       "    </tr>\n",
       "  </thead>\n",
       "  <tbody>\n",
       "    <tr>\n",
       "      <th>367910</th>\n",
       "      <td>367910</td>\n",
       "      <td>498238</td>\n",
       "      <td>498239</td>\n",
       "      <td>Does Facebook really connect friends?</td>\n",
       "      <td>Should Facebook introduce a \"follow\" type of c...</td>\n",
       "      <td>0</td>\n",
       "      <td>37</td>\n",
       "      <td>104.0</td>\n",
       "    </tr>\n",
       "    <tr>\n",
       "      <th>84933</th>\n",
       "      <td>84933</td>\n",
       "      <td>124027</td>\n",
       "      <td>143511</td>\n",
       "      <td>How did Diana, Princess of Wales, really die?</td>\n",
       "      <td>Did paparazzi kill Princess Diana? Why or why ...</td>\n",
       "      <td>0</td>\n",
       "      <td>45</td>\n",
       "      <td>50.0</td>\n",
       "    </tr>\n",
       "    <tr>\n",
       "      <th>361498</th>\n",
       "      <td>361498</td>\n",
       "      <td>491348</td>\n",
       "      <td>491349</td>\n",
       "      <td>Do Electron apps use more resources than they ...</td>\n",
       "      <td>Did Medieval peasants use more calories than t...</td>\n",
       "      <td>0</td>\n",
       "      <td>91</td>\n",
       "      <td>58.0</td>\n",
       "    </tr>\n",
       "    <tr>\n",
       "      <th>16126</th>\n",
       "      <td>16126</td>\n",
       "      <td>14709</td>\n",
       "      <td>30760</td>\n",
       "      <td>What is the shortest sentence that has all 26 ...</td>\n",
       "      <td>Why do we use silent letters in some words?</td>\n",
       "      <td>0</td>\n",
       "      <td>78</td>\n",
       "      <td>43.0</td>\n",
       "    </tr>\n",
       "    <tr>\n",
       "      <th>283887</th>\n",
       "      <td>283887</td>\n",
       "      <td>44572</td>\n",
       "      <td>404054</td>\n",
       "      <td>What are the best legitimate methods to making...</td>\n",
       "      <td>What is the best way to make money online legi...</td>\n",
       "      <td>1</td>\n",
       "      <td>60</td>\n",
       "      <td>55.0</td>\n",
       "    </tr>\n",
       "  </tbody>\n",
       "</table>\n",
       "</div>"
      ],
      "text/plain": [
       "            id    qid1    qid2  \\\n",
       "367910  367910  498238  498239   \n",
       "84933    84933  124027  143511   \n",
       "361498  361498  491348  491349   \n",
       "16126    16126   14709   30760   \n",
       "283887  283887   44572  404054   \n",
       "\n",
       "                                                question1  \\\n",
       "367910              Does Facebook really connect friends?   \n",
       "84933       How did Diana, Princess of Wales, really die?   \n",
       "361498  Do Electron apps use more resources than they ...   \n",
       "16126   What is the shortest sentence that has all 26 ...   \n",
       "283887  What are the best legitimate methods to making...   \n",
       "\n",
       "                                                question2  is_duplicate  \\\n",
       "367910  Should Facebook introduce a \"follow\" type of c...             0   \n",
       "84933   Did paparazzi kill Princess Diana? Why or why ...             0   \n",
       "361498  Did Medieval peasants use more calories than t...             0   \n",
       "16126         Why do we use silent letters in some words?             0   \n",
       "283887  What is the best way to make money online legi...             1   \n",
       "\n",
       "        q1_len  q2_len  \n",
       "367910      37   104.0  \n",
       "84933       45    50.0  \n",
       "361498      91    58.0  \n",
       "16126       78    43.0  \n",
       "283887      60    55.0  "
      ]
     },
     "execution_count": 27,
     "metadata": {},
     "output_type": "execute_result"
    }
   ],
   "source": [
    "new_df.head()"
   ]
  },
  {
   "cell_type": "code",
   "execution_count": 30,
   "id": "18012a32",
   "metadata": {},
   "outputs": [
    {
     "data": {
      "text/html": [
       "<div>\n",
       "<style scoped>\n",
       "    .dataframe tbody tr th:only-of-type {\n",
       "        vertical-align: middle;\n",
       "    }\n",
       "\n",
       "    .dataframe tbody tr th {\n",
       "        vertical-align: top;\n",
       "    }\n",
       "\n",
       "    .dataframe thead th {\n",
       "        text-align: right;\n",
       "    }\n",
       "</style>\n",
       "<table border=\"1\" class=\"dataframe\">\n",
       "  <thead>\n",
       "    <tr style=\"text-align: right;\">\n",
       "      <th></th>\n",
       "      <th>id</th>\n",
       "      <th>qid1</th>\n",
       "      <th>qid2</th>\n",
       "      <th>question1</th>\n",
       "      <th>question2</th>\n",
       "      <th>is_duplicate</th>\n",
       "      <th>q1_len</th>\n",
       "      <th>q2_len</th>\n",
       "      <th>q1_num_words</th>\n",
       "      <th>q2_num_words</th>\n",
       "    </tr>\n",
       "  </thead>\n",
       "  <tbody>\n",
       "    <tr>\n",
       "      <th>367910</th>\n",
       "      <td>367910</td>\n",
       "      <td>498238</td>\n",
       "      <td>498239</td>\n",
       "      <td>Does Facebook really connect friends?</td>\n",
       "      <td>Should Facebook introduce a \"follow\" type of c...</td>\n",
       "      <td>0</td>\n",
       "      <td>37</td>\n",
       "      <td>104.0</td>\n",
       "      <td>5</td>\n",
       "      <td>16</td>\n",
       "    </tr>\n",
       "    <tr>\n",
       "      <th>84933</th>\n",
       "      <td>84933</td>\n",
       "      <td>124027</td>\n",
       "      <td>143511</td>\n",
       "      <td>How did Diana, Princess of Wales, really die?</td>\n",
       "      <td>Did paparazzi kill Princess Diana? Why or why ...</td>\n",
       "      <td>0</td>\n",
       "      <td>45</td>\n",
       "      <td>50.0</td>\n",
       "      <td>8</td>\n",
       "      <td>9</td>\n",
       "    </tr>\n",
       "    <tr>\n",
       "      <th>361498</th>\n",
       "      <td>361498</td>\n",
       "      <td>491348</td>\n",
       "      <td>491349</td>\n",
       "      <td>Do Electron apps use more resources than they ...</td>\n",
       "      <td>Did Medieval peasants use more calories than t...</td>\n",
       "      <td>0</td>\n",
       "      <td>91</td>\n",
       "      <td>58.0</td>\n",
       "      <td>15</td>\n",
       "      <td>10</td>\n",
       "    </tr>\n",
       "    <tr>\n",
       "      <th>16126</th>\n",
       "      <td>16126</td>\n",
       "      <td>14709</td>\n",
       "      <td>30760</td>\n",
       "      <td>What is the shortest sentence that has all 26 ...</td>\n",
       "      <td>Why do we use silent letters in some words?</td>\n",
       "      <td>0</td>\n",
       "      <td>78</td>\n",
       "      <td>43.0</td>\n",
       "      <td>14</td>\n",
       "      <td>9</td>\n",
       "    </tr>\n",
       "    <tr>\n",
       "      <th>283887</th>\n",
       "      <td>283887</td>\n",
       "      <td>44572</td>\n",
       "      <td>404054</td>\n",
       "      <td>What are the best legitimate methods to making...</td>\n",
       "      <td>What is the best way to make money online legi...</td>\n",
       "      <td>1</td>\n",
       "      <td>60</td>\n",
       "      <td>55.0</td>\n",
       "      <td>10</td>\n",
       "      <td>10</td>\n",
       "    </tr>\n",
       "  </tbody>\n",
       "</table>\n",
       "</div>"
      ],
      "text/plain": [
       "            id    qid1    qid2  \\\n",
       "367910  367910  498238  498239   \n",
       "84933    84933  124027  143511   \n",
       "361498  361498  491348  491349   \n",
       "16126    16126   14709   30760   \n",
       "283887  283887   44572  404054   \n",
       "\n",
       "                                                question1  \\\n",
       "367910              Does Facebook really connect friends?   \n",
       "84933       How did Diana, Princess of Wales, really die?   \n",
       "361498  Do Electron apps use more resources than they ...   \n",
       "16126   What is the shortest sentence that has all 26 ...   \n",
       "283887  What are the best legitimate methods to making...   \n",
       "\n",
       "                                                question2  is_duplicate  \\\n",
       "367910  Should Facebook introduce a \"follow\" type of c...             0   \n",
       "84933   Did paparazzi kill Princess Diana? Why or why ...             0   \n",
       "361498  Did Medieval peasants use more calories than t...             0   \n",
       "16126         Why do we use silent letters in some words?             0   \n",
       "283887  What is the best way to make money online legi...             1   \n",
       "\n",
       "        q1_len  q2_len  q1_num_words  q2_num_words  \n",
       "367910      37   104.0             5            16  \n",
       "84933       45    50.0             8             9  \n",
       "361498      91    58.0            15            10  \n",
       "16126       78    43.0            14             9  \n",
       "283887      60    55.0            10            10  "
      ]
     },
     "execution_count": 30,
     "metadata": {},
     "output_type": "execute_result"
    }
   ],
   "source": [
    "# Assuming new_df is your DataFrame\n",
    "new_df['question1'].fillna('', inplace=True)\n",
    "new_df['question2'].fillna('', inplace=True)\n",
    "\n",
    "# Calculate the number of words in each question\n",
    "new_df['q1_num_words'] = new_df['question1'].apply(lambda row: len(row.split(\" \")))\n",
    "new_df['q2_num_words'] = new_df['question2'].apply(lambda row: len(row.split(\" \")))\n",
    "\n",
    "new_df.head()\n"
   ]
  },
  {
   "cell_type": "code",
   "execution_count": 31,
   "id": "65528717",
   "metadata": {},
   "outputs": [],
   "source": [
    "def common_words(row):\n",
    "    w1 = set(map(lambda word: word.lower().strip(), row['question1'].split(\" \")))\n",
    "    w2 = set(map(lambda word: word.lower().strip(), row['question2'].split(\" \")))    \n",
    "    return len(w1 & w2)"
   ]
  },
  {
   "cell_type": "code",
   "execution_count": 33,
   "id": "c2e52fb9",
   "metadata": {},
   "outputs": [
    {
     "data": {
      "text/html": [
       "<div>\n",
       "<style scoped>\n",
       "    .dataframe tbody tr th:only-of-type {\n",
       "        vertical-align: middle;\n",
       "    }\n",
       "\n",
       "    .dataframe tbody tr th {\n",
       "        vertical-align: top;\n",
       "    }\n",
       "\n",
       "    .dataframe thead th {\n",
       "        text-align: right;\n",
       "    }\n",
       "</style>\n",
       "<table border=\"1\" class=\"dataframe\">\n",
       "  <thead>\n",
       "    <tr style=\"text-align: right;\">\n",
       "      <th></th>\n",
       "      <th>id</th>\n",
       "      <th>qid1</th>\n",
       "      <th>qid2</th>\n",
       "      <th>question1</th>\n",
       "      <th>question2</th>\n",
       "      <th>is_duplicate</th>\n",
       "      <th>q1_len</th>\n",
       "      <th>q2_len</th>\n",
       "      <th>q1_num_words</th>\n",
       "      <th>q2_num_words</th>\n",
       "      <th>word_common</th>\n",
       "    </tr>\n",
       "  </thead>\n",
       "  <tbody>\n",
       "    <tr>\n",
       "      <th>367910</th>\n",
       "      <td>367910</td>\n",
       "      <td>498238</td>\n",
       "      <td>498239</td>\n",
       "      <td>Does Facebook really connect friends?</td>\n",
       "      <td>Should Facebook introduce a \"follow\" type of c...</td>\n",
       "      <td>0</td>\n",
       "      <td>37</td>\n",
       "      <td>104.0</td>\n",
       "      <td>5</td>\n",
       "      <td>16</td>\n",
       "      <td>1</td>\n",
       "    </tr>\n",
       "    <tr>\n",
       "      <th>84933</th>\n",
       "      <td>84933</td>\n",
       "      <td>124027</td>\n",
       "      <td>143511</td>\n",
       "      <td>How did Diana, Princess of Wales, really die?</td>\n",
       "      <td>Did paparazzi kill Princess Diana? Why or why ...</td>\n",
       "      <td>0</td>\n",
       "      <td>45</td>\n",
       "      <td>50.0</td>\n",
       "      <td>8</td>\n",
       "      <td>9</td>\n",
       "      <td>2</td>\n",
       "    </tr>\n",
       "    <tr>\n",
       "      <th>361498</th>\n",
       "      <td>361498</td>\n",
       "      <td>491348</td>\n",
       "      <td>491349</td>\n",
       "      <td>Do Electron apps use more resources than they ...</td>\n",
       "      <td>Did Medieval peasants use more calories than t...</td>\n",
       "      <td>0</td>\n",
       "      <td>91</td>\n",
       "      <td>58.0</td>\n",
       "      <td>15</td>\n",
       "      <td>10</td>\n",
       "      <td>4</td>\n",
       "    </tr>\n",
       "    <tr>\n",
       "      <th>16126</th>\n",
       "      <td>16126</td>\n",
       "      <td>14709</td>\n",
       "      <td>30760</td>\n",
       "      <td>What is the shortest sentence that has all 26 ...</td>\n",
       "      <td>Why do we use silent letters in some words?</td>\n",
       "      <td>0</td>\n",
       "      <td>78</td>\n",
       "      <td>43.0</td>\n",
       "      <td>14</td>\n",
       "      <td>9</td>\n",
       "      <td>2</td>\n",
       "    </tr>\n",
       "    <tr>\n",
       "      <th>283887</th>\n",
       "      <td>283887</td>\n",
       "      <td>44572</td>\n",
       "      <td>404054</td>\n",
       "      <td>What are the best legitimate methods to making...</td>\n",
       "      <td>What is the best way to make money online legi...</td>\n",
       "      <td>1</td>\n",
       "      <td>60</td>\n",
       "      <td>55.0</td>\n",
       "      <td>10</td>\n",
       "      <td>10</td>\n",
       "      <td>5</td>\n",
       "    </tr>\n",
       "  </tbody>\n",
       "</table>\n",
       "</div>"
      ],
      "text/plain": [
       "            id    qid1    qid2  \\\n",
       "367910  367910  498238  498239   \n",
       "84933    84933  124027  143511   \n",
       "361498  361498  491348  491349   \n",
       "16126    16126   14709   30760   \n",
       "283887  283887   44572  404054   \n",
       "\n",
       "                                                question1  \\\n",
       "367910              Does Facebook really connect friends?   \n",
       "84933       How did Diana, Princess of Wales, really die?   \n",
       "361498  Do Electron apps use more resources than they ...   \n",
       "16126   What is the shortest sentence that has all 26 ...   \n",
       "283887  What are the best legitimate methods to making...   \n",
       "\n",
       "                                                question2  is_duplicate  \\\n",
       "367910  Should Facebook introduce a \"follow\" type of c...             0   \n",
       "84933   Did paparazzi kill Princess Diana? Why or why ...             0   \n",
       "361498  Did Medieval peasants use more calories than t...             0   \n",
       "16126         Why do we use silent letters in some words?             0   \n",
       "283887  What is the best way to make money online legi...             1   \n",
       "\n",
       "        q1_len  q2_len  q1_num_words  q2_num_words  word_common  \n",
       "367910      37   104.0             5            16            1  \n",
       "84933       45    50.0             8             9            2  \n",
       "361498      91    58.0            15            10            4  \n",
       "16126       78    43.0            14             9            2  \n",
       "283887      60    55.0            10            10            5  "
      ]
     },
     "execution_count": 33,
     "metadata": {},
     "output_type": "execute_result"
    }
   ],
   "source": [
    "new_df['word_common'] = new_df.apply(common_words, axis=1)\n",
    "new_df.head()"
   ]
  },
  {
   "cell_type": "code",
   "execution_count": 34,
   "id": "b59ed675",
   "metadata": {},
   "outputs": [],
   "source": [
    "def total_words(row):\n",
    "    w1 = set(map(lambda word: word.lower().strip(), row['question1'].split(\" \")))\n",
    "    w2 = set(map(lambda word: word.lower().strip(), row['question2'].split(\" \")))    \n",
    "    return (len(w1) + len(w2))"
   ]
  },
  {
   "cell_type": "code",
   "execution_count": 35,
   "id": "dd3711a6",
   "metadata": {},
   "outputs": [
    {
     "data": {
      "text/html": [
       "<div>\n",
       "<style scoped>\n",
       "    .dataframe tbody tr th:only-of-type {\n",
       "        vertical-align: middle;\n",
       "    }\n",
       "\n",
       "    .dataframe tbody tr th {\n",
       "        vertical-align: top;\n",
       "    }\n",
       "\n",
       "    .dataframe thead th {\n",
       "        text-align: right;\n",
       "    }\n",
       "</style>\n",
       "<table border=\"1\" class=\"dataframe\">\n",
       "  <thead>\n",
       "    <tr style=\"text-align: right;\">\n",
       "      <th></th>\n",
       "      <th>id</th>\n",
       "      <th>qid1</th>\n",
       "      <th>qid2</th>\n",
       "      <th>question1</th>\n",
       "      <th>question2</th>\n",
       "      <th>is_duplicate</th>\n",
       "      <th>q1_len</th>\n",
       "      <th>q2_len</th>\n",
       "      <th>q1_num_words</th>\n",
       "      <th>q2_num_words</th>\n",
       "      <th>word_common</th>\n",
       "      <th>word_total</th>\n",
       "    </tr>\n",
       "  </thead>\n",
       "  <tbody>\n",
       "    <tr>\n",
       "      <th>367910</th>\n",
       "      <td>367910</td>\n",
       "      <td>498238</td>\n",
       "      <td>498239</td>\n",
       "      <td>Does Facebook really connect friends?</td>\n",
       "      <td>Should Facebook introduce a \"follow\" type of c...</td>\n",
       "      <td>0</td>\n",
       "      <td>37</td>\n",
       "      <td>104.0</td>\n",
       "      <td>5</td>\n",
       "      <td>16</td>\n",
       "      <td>1</td>\n",
       "      <td>19</td>\n",
       "    </tr>\n",
       "    <tr>\n",
       "      <th>84933</th>\n",
       "      <td>84933</td>\n",
       "      <td>124027</td>\n",
       "      <td>143511</td>\n",
       "      <td>How did Diana, Princess of Wales, really die?</td>\n",
       "      <td>Did paparazzi kill Princess Diana? Why or why ...</td>\n",
       "      <td>0</td>\n",
       "      <td>45</td>\n",
       "      <td>50.0</td>\n",
       "      <td>8</td>\n",
       "      <td>9</td>\n",
       "      <td>2</td>\n",
       "      <td>16</td>\n",
       "    </tr>\n",
       "    <tr>\n",
       "      <th>361498</th>\n",
       "      <td>361498</td>\n",
       "      <td>491348</td>\n",
       "      <td>491349</td>\n",
       "      <td>Do Electron apps use more resources than they ...</td>\n",
       "      <td>Did Medieval peasants use more calories than t...</td>\n",
       "      <td>0</td>\n",
       "      <td>91</td>\n",
       "      <td>58.0</td>\n",
       "      <td>15</td>\n",
       "      <td>10</td>\n",
       "      <td>4</td>\n",
       "      <td>25</td>\n",
       "    </tr>\n",
       "    <tr>\n",
       "      <th>16126</th>\n",
       "      <td>16126</td>\n",
       "      <td>14709</td>\n",
       "      <td>30760</td>\n",
       "      <td>What is the shortest sentence that has all 26 ...</td>\n",
       "      <td>Why do we use silent letters in some words?</td>\n",
       "      <td>0</td>\n",
       "      <td>78</td>\n",
       "      <td>43.0</td>\n",
       "      <td>14</td>\n",
       "      <td>9</td>\n",
       "      <td>2</td>\n",
       "      <td>22</td>\n",
       "    </tr>\n",
       "    <tr>\n",
       "      <th>283887</th>\n",
       "      <td>283887</td>\n",
       "      <td>44572</td>\n",
       "      <td>404054</td>\n",
       "      <td>What are the best legitimate methods to making...</td>\n",
       "      <td>What is the best way to make money online legi...</td>\n",
       "      <td>1</td>\n",
       "      <td>60</td>\n",
       "      <td>55.0</td>\n",
       "      <td>10</td>\n",
       "      <td>10</td>\n",
       "      <td>5</td>\n",
       "      <td>20</td>\n",
       "    </tr>\n",
       "  </tbody>\n",
       "</table>\n",
       "</div>"
      ],
      "text/plain": [
       "            id    qid1    qid2  \\\n",
       "367910  367910  498238  498239   \n",
       "84933    84933  124027  143511   \n",
       "361498  361498  491348  491349   \n",
       "16126    16126   14709   30760   \n",
       "283887  283887   44572  404054   \n",
       "\n",
       "                                                question1  \\\n",
       "367910              Does Facebook really connect friends?   \n",
       "84933       How did Diana, Princess of Wales, really die?   \n",
       "361498  Do Electron apps use more resources than they ...   \n",
       "16126   What is the shortest sentence that has all 26 ...   \n",
       "283887  What are the best legitimate methods to making...   \n",
       "\n",
       "                                                question2  is_duplicate  \\\n",
       "367910  Should Facebook introduce a \"follow\" type of c...             0   \n",
       "84933   Did paparazzi kill Princess Diana? Why or why ...             0   \n",
       "361498  Did Medieval peasants use more calories than t...             0   \n",
       "16126         Why do we use silent letters in some words?             0   \n",
       "283887  What is the best way to make money online legi...             1   \n",
       "\n",
       "        q1_len  q2_len  q1_num_words  q2_num_words  word_common  word_total  \n",
       "367910      37   104.0             5            16            1          19  \n",
       "84933       45    50.0             8             9            2          16  \n",
       "361498      91    58.0            15            10            4          25  \n",
       "16126       78    43.0            14             9            2          22  \n",
       "283887      60    55.0            10            10            5          20  "
      ]
     },
     "execution_count": 35,
     "metadata": {},
     "output_type": "execute_result"
    }
   ],
   "source": [
    "new_df['word_total'] = new_df.apply(total_words, axis=1)\n",
    "new_df.head()"
   ]
  },
  {
   "cell_type": "code",
   "execution_count": 36,
   "id": "3efdc131",
   "metadata": {},
   "outputs": [
    {
     "data": {
      "text/html": [
       "<div>\n",
       "<style scoped>\n",
       "    .dataframe tbody tr th:only-of-type {\n",
       "        vertical-align: middle;\n",
       "    }\n",
       "\n",
       "    .dataframe tbody tr th {\n",
       "        vertical-align: top;\n",
       "    }\n",
       "\n",
       "    .dataframe thead th {\n",
       "        text-align: right;\n",
       "    }\n",
       "</style>\n",
       "<table border=\"1\" class=\"dataframe\">\n",
       "  <thead>\n",
       "    <tr style=\"text-align: right;\">\n",
       "      <th></th>\n",
       "      <th>id</th>\n",
       "      <th>qid1</th>\n",
       "      <th>qid2</th>\n",
       "      <th>question1</th>\n",
       "      <th>question2</th>\n",
       "      <th>is_duplicate</th>\n",
       "      <th>q1_len</th>\n",
       "      <th>q2_len</th>\n",
       "      <th>q1_num_words</th>\n",
       "      <th>q2_num_words</th>\n",
       "      <th>word_common</th>\n",
       "      <th>word_total</th>\n",
       "      <th>word_share</th>\n",
       "    </tr>\n",
       "  </thead>\n",
       "  <tbody>\n",
       "    <tr>\n",
       "      <th>367910</th>\n",
       "      <td>367910</td>\n",
       "      <td>498238</td>\n",
       "      <td>498239</td>\n",
       "      <td>Does Facebook really connect friends?</td>\n",
       "      <td>Should Facebook introduce a \"follow\" type of c...</td>\n",
       "      <td>0</td>\n",
       "      <td>37</td>\n",
       "      <td>104.0</td>\n",
       "      <td>5</td>\n",
       "      <td>16</td>\n",
       "      <td>1</td>\n",
       "      <td>19</td>\n",
       "      <td>0.05</td>\n",
       "    </tr>\n",
       "    <tr>\n",
       "      <th>84933</th>\n",
       "      <td>84933</td>\n",
       "      <td>124027</td>\n",
       "      <td>143511</td>\n",
       "      <td>How did Diana, Princess of Wales, really die?</td>\n",
       "      <td>Did paparazzi kill Princess Diana? Why or why ...</td>\n",
       "      <td>0</td>\n",
       "      <td>45</td>\n",
       "      <td>50.0</td>\n",
       "      <td>8</td>\n",
       "      <td>9</td>\n",
       "      <td>2</td>\n",
       "      <td>16</td>\n",
       "      <td>0.12</td>\n",
       "    </tr>\n",
       "    <tr>\n",
       "      <th>361498</th>\n",
       "      <td>361498</td>\n",
       "      <td>491348</td>\n",
       "      <td>491349</td>\n",
       "      <td>Do Electron apps use more resources than they ...</td>\n",
       "      <td>Did Medieval peasants use more calories than t...</td>\n",
       "      <td>0</td>\n",
       "      <td>91</td>\n",
       "      <td>58.0</td>\n",
       "      <td>15</td>\n",
       "      <td>10</td>\n",
       "      <td>4</td>\n",
       "      <td>25</td>\n",
       "      <td>0.16</td>\n",
       "    </tr>\n",
       "    <tr>\n",
       "      <th>16126</th>\n",
       "      <td>16126</td>\n",
       "      <td>14709</td>\n",
       "      <td>30760</td>\n",
       "      <td>What is the shortest sentence that has all 26 ...</td>\n",
       "      <td>Why do we use silent letters in some words?</td>\n",
       "      <td>0</td>\n",
       "      <td>78</td>\n",
       "      <td>43.0</td>\n",
       "      <td>14</td>\n",
       "      <td>9</td>\n",
       "      <td>2</td>\n",
       "      <td>22</td>\n",
       "      <td>0.09</td>\n",
       "    </tr>\n",
       "    <tr>\n",
       "      <th>283887</th>\n",
       "      <td>283887</td>\n",
       "      <td>44572</td>\n",
       "      <td>404054</td>\n",
       "      <td>What are the best legitimate methods to making...</td>\n",
       "      <td>What is the best way to make money online legi...</td>\n",
       "      <td>1</td>\n",
       "      <td>60</td>\n",
       "      <td>55.0</td>\n",
       "      <td>10</td>\n",
       "      <td>10</td>\n",
       "      <td>5</td>\n",
       "      <td>20</td>\n",
       "      <td>0.25</td>\n",
       "    </tr>\n",
       "  </tbody>\n",
       "</table>\n",
       "</div>"
      ],
      "text/plain": [
       "            id    qid1    qid2  \\\n",
       "367910  367910  498238  498239   \n",
       "84933    84933  124027  143511   \n",
       "361498  361498  491348  491349   \n",
       "16126    16126   14709   30760   \n",
       "283887  283887   44572  404054   \n",
       "\n",
       "                                                question1  \\\n",
       "367910              Does Facebook really connect friends?   \n",
       "84933       How did Diana, Princess of Wales, really die?   \n",
       "361498  Do Electron apps use more resources than they ...   \n",
       "16126   What is the shortest sentence that has all 26 ...   \n",
       "283887  What are the best legitimate methods to making...   \n",
       "\n",
       "                                                question2  is_duplicate  \\\n",
       "367910  Should Facebook introduce a \"follow\" type of c...             0   \n",
       "84933   Did paparazzi kill Princess Diana? Why or why ...             0   \n",
       "361498  Did Medieval peasants use more calories than t...             0   \n",
       "16126         Why do we use silent letters in some words?             0   \n",
       "283887  What is the best way to make money online legi...             1   \n",
       "\n",
       "        q1_len  q2_len  q1_num_words  q2_num_words  word_common  word_total  \\\n",
       "367910      37   104.0             5            16            1          19   \n",
       "84933       45    50.0             8             9            2          16   \n",
       "361498      91    58.0            15            10            4          25   \n",
       "16126       78    43.0            14             9            2          22   \n",
       "283887      60    55.0            10            10            5          20   \n",
       "\n",
       "        word_share  \n",
       "367910        0.05  \n",
       "84933         0.12  \n",
       "361498        0.16  \n",
       "16126         0.09  \n",
       "283887        0.25  "
      ]
     },
     "execution_count": 36,
     "metadata": {},
     "output_type": "execute_result"
    }
   ],
   "source": [
    "new_df['word_share'] = round(new_df['word_common']/new_df['word_total'],2)\n",
    "new_df.head()"
   ]
  },
  {
   "cell_type": "code",
   "execution_count": 37,
   "id": "3205829d",
   "metadata": {},
   "outputs": [
    {
     "name": "stdout",
     "output_type": "stream",
     "text": [
      "minimum characters 4\n",
      "maximum characters 354\n",
      "average num of characters 59\n"
     ]
    },
    {
     "data": {
      "image/png": "[encoded data removed]",
      "text/plain": [
       "<Figure size 500x500 with 1 Axes>"
      ]
     },
     "metadata": {},
     "output_type": "display_data"
    }
   ],
   "source": [
    "# Analysis of features\n",
    "sns.displot(new_df['q1_len'])\n",
    "print('minimum characters',new_df['q1_len'].min())\n",
    "print('maximum characters',new_df['q1_len'].max())\n",
    "print('average num of characters',int(new_df['q1_len'].mean()))"
   ]
  },
  {
   "cell_type": "code",
   "execution_count": 38,
   "id": "de8b9c92",
   "metadata": {},
   "outputs": [
    {
     "name": "stdout",
     "output_type": "stream",
     "text": [
      "minimum characters 3.0\n",
      "maximum characters 1151.0\n",
      "average num of characters 60\n"
     ]
    },
    {
     "data": {
      "image/png": "[encoded data removed]",
      "text/plain": [
       "<Figure size 500x500 with 1 Axes>"
      ]
     },
     "metadata": {},
     "output_type": "display_data"
    }
   ],
   "source": [
    "sns.displot(new_df['q2_len'])\n",
    "print('minimum characters',new_df['q2_len'].min())\n",
    "print('maximum characters',new_df['q2_len'].max())\n",
    "print('average num of characters',int(new_df['q2_len'].mean()))"
   ]
  },
  {
   "cell_type": "code",
   "execution_count": 39,
   "id": "545a736f",
   "metadata": {},
   "outputs": [
    {
     "name": "stdout",
     "output_type": "stream",
     "text": [
      "minimum words 1\n",
      "maximum words 73\n",
      "average num of words 10\n"
     ]
    },
    {
     "data": {
      "image/png": "[encoded data removed]",
      "text/plain": [
       "<Figure size 500x500 with 1 Axes>"
      ]
     },
     "metadata": {},
     "output_type": "display_data"
    }
   ],
   "source": [
    "sns.displot(new_df['q1_num_words'])\n",
    "print('minimum words',new_df['q1_num_words'].min())\n",
    "print('maximum words',new_df['q1_num_words'].max())\n",
    "print('average num of words',int(new_df['q1_num_words'].mean()))"
   ]
  },
  {
   "cell_type": "code",
   "execution_count": 40,
   "id": "2296c462",
   "metadata": {},
   "outputs": [
    {
     "name": "stdout",
     "output_type": "stream",
     "text": [
      "minimum words 1\n",
      "maximum words 237\n",
      "average num of words 11\n"
     ]
    },
    {
     "data": {
      "image/png": "[encoded data removed]",
      "text/plain": [
       "<Figure size 500x500 with 1 Axes>"
      ]
     },
     "metadata": {},
     "output_type": "display_data"
    }
   ],
   "source": [
    "sns.displot(new_df['q2_num_words'])\n",
    "print('minimum words',new_df['q2_num_words'].min())\n",
    "print('maximum words',new_df['q2_num_words'].max())\n",
    "print('average num of words',int(new_df['q2_num_words'].mean()))"
   ]
  },
  {
   "cell_type": "code",
   "execution_count": 41,
   "id": "d6b33010",
   "metadata": {},
   "outputs": [
    {
     "name": "stderr",
     "output_type": "stream",
     "text": [
      "C:\\Users\\Dell\\AppData\\Local\\Temp\\ipykernel_21120\\2492214095.py:2: UserWarning: \n",
      "\n",
      "`distplot` is a deprecated function and will be removed in seaborn v0.14.0.\n",
      "\n",
      "Please adapt your code to use either `displot` (a figure-level function with\n",
      "similar flexibility) or `histplot` (an axes-level function for histograms).\n",
      "\n",
      "For a guide to updating your code to use the new functions, please see\n",
      "https://gist.github.com/mwaskom/de44147ed2974457ad6372750bbe5751\n",
      "\n",
      "  sns.distplot(new_df[new_df['is_duplicate'] == 0]['word_common'],label='non duplicate')\n",
      "C:\\Users\\Dell\\AppData\\Local\\Temp\\ipykernel_21120\\2492214095.py:3: UserWarning: \n",
      "\n",
      "`distplot` is a deprecated function and will be removed in seaborn v0.14.0.\n",
      "\n",
      "Please adapt your code to use either `displot` (a figure-level function with\n",
      "similar flexibility) or `histplot` (an axes-level function for histograms).\n",
      "\n",
      "For a guide to updating your code to use the new functions, please see\n",
      "https://gist.github.com/mwaskom/de44147ed2974457ad6372750bbe5751\n",
      "\n",
      "  sns.distplot(new_df[new_df['is_duplicate'] == 1]['word_common'],label='duplicate')\n"
     ]
    },
    {
     "data": {
      "image/png": "[encoded data removed]",
      "text/plain": [
       "<Figure size 640x480 with 1 Axes>"
      ]
     },
     "metadata": {},
     "output_type": "display_data"
    }
   ],
   "source": [
    "# common words\n",
    "sns.distplot(new_df[new_df['is_duplicate'] == 0]['word_common'],label='non duplicate')\n",
    "sns.distplot(new_df[new_df['is_duplicate'] == 1]['word_common'],label='duplicate')\n",
    "plt.legend()\n",
    "plt.show()"
   ]
  },
  {
   "cell_type": "code",
   "execution_count": 42,
   "id": "7e55415a",
   "metadata": {},
   "outputs": [
    {
     "name": "stderr",
     "output_type": "stream",
     "text": [
      "C:\\Users\\Dell\\AppData\\Local\\Temp\\ipykernel_21120\\2776808923.py:2: UserWarning: \n",
      "\n",
      "`distplot` is a deprecated function and will be removed in seaborn v0.14.0.\n",
      "\n",
      "Please adapt your code to use either `displot` (a figure-level function with\n",
      "similar flexibility) or `histplot` (an axes-level function for histograms).\n",
      "\n",
      "For a guide to updating your code to use the new functions, please see\n",
      "https://gist.github.com/mwaskom/de44147ed2974457ad6372750bbe5751\n",
      "\n",
      "  sns.distplot(new_df[new_df['is_duplicate'] == 0]['word_total'],label='non duplicate')\n",
      "C:\\Users\\Dell\\AppData\\Local\\Temp\\ipykernel_21120\\2776808923.py:3: UserWarning: \n",
      "\n",
      "`distplot` is a deprecated function and will be removed in seaborn v0.14.0.\n",
      "\n",
      "Please adapt your code to use either `displot` (a figure-level function with\n",
      "similar flexibility) or `histplot` (an axes-level function for histograms).\n",
      "\n",
      "For a guide to updating your code to use the new functions, please see\n",
      "https://gist.github.com/mwaskom/de44147ed2974457ad6372750bbe5751\n",
      "\n",
      "  sns.distplot(new_df[new_df['is_duplicate'] == 1]['word_total'],label='duplicate')\n"
     ]
    },
    {
     "data": {
      "image/png": "[encoded data removed]",
      "text/plain": [
       "<Figure size 640x480 with 1 Axes>"
      ]
     },
     "metadata": {},
     "output_type": "display_data"
    }
   ],
   "source": [
    "# total words\n",
    "sns.distplot(new_df[new_df['is_duplicate'] == 0]['word_total'],label='non duplicate')\n",
    "sns.distplot(new_df[new_df['is_duplicate'] == 1]['word_total'],label='duplicate')\n",
    "plt.legend()\n",
    "plt.show()"
   ]
  },
  {
   "cell_type": "code",
   "execution_count": 43,
   "id": "f7c8fdc1",
   "metadata": {},
   "outputs": [
    {
     "name": "stderr",
     "output_type": "stream",
     "text": [
      "C:\\Users\\Dell\\AppData\\Local\\Temp\\ipykernel_21120\\542246512.py:2: UserWarning: \n",
      "\n",
      "`distplot` is a deprecated function and will be removed in seaborn v0.14.0.\n",
      "\n",
      "Please adapt your code to use either `displot` (a figure-level function with\n",
      "similar flexibility) or `histplot` (an axes-level function for histograms).\n",
      "\n",
      "For a guide to updating your code to use the new functions, please see\n",
      "https://gist.github.com/mwaskom/de44147ed2974457ad6372750bbe5751\n",
      "\n",
      "  sns.distplot(new_df[new_df['is_duplicate'] == 0]['word_share'],label='non duplicate')\n",
      "C:\\Users\\Dell\\AppData\\Local\\Temp\\ipykernel_21120\\542246512.py:3: UserWarning: \n",
      "\n",
      "`distplot` is a deprecated function and will be removed in seaborn v0.14.0.\n",
      "\n",
      "Please adapt your code to use either `displot` (a figure-level function with\n",
      "similar flexibility) or `histplot` (an axes-level function for histograms).\n",
      "\n",
      "For a guide to updating your code to use the new functions, please see\n",
      "https://gist.github.com/mwaskom/de44147ed2974457ad6372750bbe5751\n",
      "\n",
      "  sns.distplot(new_df[new_df['is_duplicate'] == 1]['word_share'],label='duplicate')\n"
     ]
    },
    {
     "data": {
      "image/png": "[encoded data removed]",
      "text/plain": [
       "<Figure size 640x480 with 1 Axes>"
      ]
     },
     "metadata": {},
     "output_type": "display_data"
    }
   ],
   "source": [
    "# word share\n",
    "sns.distplot(new_df[new_df['is_duplicate'] == 0]['word_share'],label='non duplicate')\n",
    "sns.distplot(new_df[new_df['is_duplicate'] == 1]['word_share'],label='duplicate')\n",
    "plt.legend()\n",
    "plt.show()"
   ]
  },
  {
   "cell_type": "code",
   "execution_count": 44,
   "id": "aa2b7782",
   "metadata": {},
   "outputs": [
    {
     "data": {
      "text/html": [
       "<div>\n",
       "<style scoped>\n",
       "    .dataframe tbody tr th:only-of-type {\n",
       "        vertical-align: middle;\n",
       "    }\n",
       "\n",
       "    .dataframe tbody tr th {\n",
       "        vertical-align: top;\n",
       "    }\n",
       "\n",
       "    .dataframe thead th {\n",
       "        text-align: right;\n",
       "    }\n",
       "</style>\n",
       "<table border=\"1\" class=\"dataframe\">\n",
       "  <thead>\n",
       "    <tr style=\"text-align: right;\">\n",
       "      <th></th>\n",
       "      <th>question1</th>\n",
       "      <th>question2</th>\n",
       "    </tr>\n",
       "  </thead>\n",
       "  <tbody>\n",
       "    <tr>\n",
       "      <th>367910</th>\n",
       "      <td>Does Facebook really connect friends?</td>\n",
       "      <td>Should Facebook introduce a \"follow\" type of c...</td>\n",
       "    </tr>\n",
       "    <tr>\n",
       "      <th>84933</th>\n",
       "      <td>How did Diana, Princess of Wales, really die?</td>\n",
       "      <td>Did paparazzi kill Princess Diana? Why or why ...</td>\n",
       "    </tr>\n",
       "    <tr>\n",
       "      <th>361498</th>\n",
       "      <td>Do Electron apps use more resources than they ...</td>\n",
       "      <td>Did Medieval peasants use more calories than t...</td>\n",
       "    </tr>\n",
       "    <tr>\n",
       "      <th>16126</th>\n",
       "      <td>What is the shortest sentence that has all 26 ...</td>\n",
       "      <td>Why do we use silent letters in some words?</td>\n",
       "    </tr>\n",
       "    <tr>\n",
       "      <th>283887</th>\n",
       "      <td>What are the best legitimate methods to making...</td>\n",
       "      <td>What is the best way to make money online legi...</td>\n",
       "    </tr>\n",
       "  </tbody>\n",
       "</table>\n",
       "</div>"
      ],
      "text/plain": [
       "                                                question1  \\\n",
       "367910              Does Facebook really connect friends?   \n",
       "84933       How did Diana, Princess of Wales, really die?   \n",
       "361498  Do Electron apps use more resources than they ...   \n",
       "16126   What is the shortest sentence that has all 26 ...   \n",
       "283887  What are the best legitimate methods to making...   \n",
       "\n",
       "                                                question2  \n",
       "367910  Should Facebook introduce a \"follow\" type of c...  \n",
       "84933   Did paparazzi kill Princess Diana? Why or why ...  \n",
       "361498  Did Medieval peasants use more calories than t...  \n",
       "16126         Why do we use silent letters in some words?  \n",
       "283887  What is the best way to make money online legi...  "
      ]
     },
     "execution_count": 44,
     "metadata": {},
     "output_type": "execute_result"
    }
   ],
   "source": [
    "ques_df = new_df[['question1','question2']]\n",
    "ques_df.head()"
   ]
  },
  {
   "cell_type": "code",
   "execution_count": 45,
   "id": "ca2e1618",
   "metadata": {},
   "outputs": [
    {
     "name": "stdout",
     "output_type": "stream",
     "text": [
      "(30000, 8)\n"
     ]
    },
    {
     "data": {
      "text/html": [
       "<div>\n",
       "<style scoped>\n",
       "    .dataframe tbody tr th:only-of-type {\n",
       "        vertical-align: middle;\n",
       "    }\n",
       "\n",
       "    .dataframe tbody tr th {\n",
       "        vertical-align: top;\n",
       "    }\n",
       "\n",
       "    .dataframe thead th {\n",
       "        text-align: right;\n",
       "    }\n",
       "</style>\n",
       "<table border=\"1\" class=\"dataframe\">\n",
       "  <thead>\n",
       "    <tr style=\"text-align: right;\">\n",
       "      <th></th>\n",
       "      <th>is_duplicate</th>\n",
       "      <th>q1_len</th>\n",
       "      <th>q2_len</th>\n",
       "      <th>q1_num_words</th>\n",
       "      <th>q2_num_words</th>\n",
       "      <th>word_common</th>\n",
       "      <th>word_total</th>\n",
       "      <th>word_share</th>\n",
       "    </tr>\n",
       "  </thead>\n",
       "  <tbody>\n",
       "    <tr>\n",
       "      <th>367910</th>\n",
       "      <td>0</td>\n",
       "      <td>37</td>\n",
       "      <td>104.0</td>\n",
       "      <td>5</td>\n",
       "      <td>16</td>\n",
       "      <td>1</td>\n",
       "      <td>19</td>\n",
       "      <td>0.05</td>\n",
       "    </tr>\n",
       "    <tr>\n",
       "      <th>84933</th>\n",
       "      <td>0</td>\n",
       "      <td>45</td>\n",
       "      <td>50.0</td>\n",
       "      <td>8</td>\n",
       "      <td>9</td>\n",
       "      <td>2</td>\n",
       "      <td>16</td>\n",
       "      <td>0.12</td>\n",
       "    </tr>\n",
       "    <tr>\n",
       "      <th>361498</th>\n",
       "      <td>0</td>\n",
       "      <td>91</td>\n",
       "      <td>58.0</td>\n",
       "      <td>15</td>\n",
       "      <td>10</td>\n",
       "      <td>4</td>\n",
       "      <td>25</td>\n",
       "      <td>0.16</td>\n",
       "    </tr>\n",
       "    <tr>\n",
       "      <th>16126</th>\n",
       "      <td>0</td>\n",
       "      <td>78</td>\n",
       "      <td>43.0</td>\n",
       "      <td>14</td>\n",
       "      <td>9</td>\n",
       "      <td>2</td>\n",
       "      <td>22</td>\n",
       "      <td>0.09</td>\n",
       "    </tr>\n",
       "    <tr>\n",
       "      <th>283887</th>\n",
       "      <td>1</td>\n",
       "      <td>60</td>\n",
       "      <td>55.0</td>\n",
       "      <td>10</td>\n",
       "      <td>10</td>\n",
       "      <td>5</td>\n",
       "      <td>20</td>\n",
       "      <td>0.25</td>\n",
       "    </tr>\n",
       "  </tbody>\n",
       "</table>\n",
       "</div>"
      ],
      "text/plain": [
       "        is_duplicate  q1_len  q2_len  q1_num_words  q2_num_words  word_common  \\\n",
       "367910             0      37   104.0             5            16            1   \n",
       "84933              0      45    50.0             8             9            2   \n",
       "361498             0      91    58.0            15            10            4   \n",
       "16126              0      78    43.0            14             9            2   \n",
       "283887             1      60    55.0            10            10            5   \n",
       "\n",
       "        word_total  word_share  \n",
       "367910          19        0.05  \n",
       "84933           16        0.12  \n",
       "361498          25        0.16  \n",
       "16126           22        0.09  \n",
       "283887          20        0.25  "
      ]
     },
     "execution_count": 45,
     "metadata": {},
     "output_type": "execute_result"
    }
   ],
   "source": [
    "final_df = new_df.drop(columns=['id','qid1','qid2','question1','question2'])\n",
    "print(final_df.shape)\n",
    "final_df.head()"
   ]
  },
  {
   "cell_type": "code",
   "execution_count": 46,
   "id": "931d507a",
   "metadata": {},
   "outputs": [],
   "source": [
    "from sklearn.feature_extraction.text import CountVectorizer\n",
    "# merge texts\n",
    "questions = list(ques_df['question1']) + list(ques_df['question2'])\n",
    "\n",
    "cv = CountVectorizer(max_features=3000)\n",
    "q1_arr, q2_arr = np.vsplit(cv.fit_transform(questions).toarray(),2)"
   ]
  },
  {
   "cell_type": "code",
   "execution_count": 47,
   "id": "d60de7f9",
   "metadata": {},
   "outputs": [
    {
     "data": {
      "text/plain": [
       "(30000, 6000)"
      ]
     },
     "execution_count": 47,
     "metadata": {},
     "output_type": "execute_result"
    }
   ],
   "source": [
    "temp_df1 = pd.DataFrame(q1_arr, index= ques_df.index)\n",
    "temp_df2 = pd.DataFrame(q2_arr, index= ques_df.index)\n",
    "temp_df = pd.concat([temp_df1, temp_df2], axis=1)\n",
    "temp_df.shape"
   ]
  },
  {
   "cell_type": "code",
   "execution_count": 48,
   "id": "dbe6cb2e",
   "metadata": {},
   "outputs": [
    {
     "name": "stdout",
     "output_type": "stream",
     "text": [
      "(30000, 6008)\n"
     ]
    },
    {
     "data": {
      "text/html": [
       "<div>\n",
       "<style scoped>\n",
       "    .dataframe tbody tr th:only-of-type {\n",
       "        vertical-align: middle;\n",
       "    }\n",
       "\n",
       "    .dataframe tbody tr th {\n",
       "        vertical-align: top;\n",
       "    }\n",
       "\n",
       "    .dataframe thead th {\n",
       "        text-align: right;\n",
       "    }\n",
       "</style>\n",
       "<table border=\"1\" class=\"dataframe\">\n",
       "  <thead>\n",
       "    <tr style=\"text-align: right;\">\n",
       "      <th></th>\n",
       "      <th>is_duplicate</th>\n",
       "      <th>q1_len</th>\n",
       "      <th>q2_len</th>\n",
       "      <th>q1_num_words</th>\n",
       "      <th>q2_num_words</th>\n",
       "      <th>word_common</th>\n",
       "      <th>word_total</th>\n",
       "      <th>word_share</th>\n",
       "      <th>0</th>\n",
       "      <th>1</th>\n",
       "      <th>...</th>\n",
       "      <th>2990</th>\n",
       "      <th>2991</th>\n",
       "      <th>2992</th>\n",
       "      <th>2993</th>\n",
       "      <th>2994</th>\n",
       "      <th>2995</th>\n",
       "      <th>2996</th>\n",
       "      <th>2997</th>\n",
       "      <th>2998</th>\n",
       "      <th>2999</th>\n",
       "    </tr>\n",
       "  </thead>\n",
       "  <tbody>\n",
       "    <tr>\n",
       "      <th>367910</th>\n",
       "      <td>0</td>\n",
       "      <td>37</td>\n",
       "      <td>104.0</td>\n",
       "      <td>5</td>\n",
       "      <td>16</td>\n",
       "      <td>1</td>\n",
       "      <td>19</td>\n",
       "      <td>0.05</td>\n",
       "      <td>0</td>\n",
       "      <td>0</td>\n",
       "      <td>...</td>\n",
       "      <td>0</td>\n",
       "      <td>0</td>\n",
       "      <td>0</td>\n",
       "      <td>0</td>\n",
       "      <td>0</td>\n",
       "      <td>0</td>\n",
       "      <td>0</td>\n",
       "      <td>0</td>\n",
       "      <td>0</td>\n",
       "      <td>0</td>\n",
       "    </tr>\n",
       "    <tr>\n",
       "      <th>84933</th>\n",
       "      <td>0</td>\n",
       "      <td>45</td>\n",
       "      <td>50.0</td>\n",
       "      <td>8</td>\n",
       "      <td>9</td>\n",
       "      <td>2</td>\n",
       "      <td>16</td>\n",
       "      <td>0.12</td>\n",
       "      <td>0</td>\n",
       "      <td>0</td>\n",
       "      <td>...</td>\n",
       "      <td>0</td>\n",
       "      <td>0</td>\n",
       "      <td>0</td>\n",
       "      <td>0</td>\n",
       "      <td>0</td>\n",
       "      <td>0</td>\n",
       "      <td>0</td>\n",
       "      <td>0</td>\n",
       "      <td>0</td>\n",
       "      <td>0</td>\n",
       "    </tr>\n",
       "    <tr>\n",
       "      <th>361498</th>\n",
       "      <td>0</td>\n",
       "      <td>91</td>\n",
       "      <td>58.0</td>\n",
       "      <td>15</td>\n",
       "      <td>10</td>\n",
       "      <td>4</td>\n",
       "      <td>25</td>\n",
       "      <td>0.16</td>\n",
       "      <td>0</td>\n",
       "      <td>0</td>\n",
       "      <td>...</td>\n",
       "      <td>0</td>\n",
       "      <td>0</td>\n",
       "      <td>0</td>\n",
       "      <td>0</td>\n",
       "      <td>0</td>\n",
       "      <td>0</td>\n",
       "      <td>0</td>\n",
       "      <td>0</td>\n",
       "      <td>0</td>\n",
       "      <td>0</td>\n",
       "    </tr>\n",
       "    <tr>\n",
       "      <th>16126</th>\n",
       "      <td>0</td>\n",
       "      <td>78</td>\n",
       "      <td>43.0</td>\n",
       "      <td>14</td>\n",
       "      <td>9</td>\n",
       "      <td>2</td>\n",
       "      <td>22</td>\n",
       "      <td>0.09</td>\n",
       "      <td>0</td>\n",
       "      <td>0</td>\n",
       "      <td>...</td>\n",
       "      <td>0</td>\n",
       "      <td>0</td>\n",
       "      <td>0</td>\n",
       "      <td>0</td>\n",
       "      <td>0</td>\n",
       "      <td>0</td>\n",
       "      <td>0</td>\n",
       "      <td>0</td>\n",
       "      <td>0</td>\n",
       "      <td>0</td>\n",
       "    </tr>\n",
       "    <tr>\n",
       "      <th>283887</th>\n",
       "      <td>1</td>\n",
       "      <td>60</td>\n",
       "      <td>55.0</td>\n",
       "      <td>10</td>\n",
       "      <td>10</td>\n",
       "      <td>5</td>\n",
       "      <td>20</td>\n",
       "      <td>0.25</td>\n",
       "      <td>0</td>\n",
       "      <td>0</td>\n",
       "      <td>...</td>\n",
       "      <td>0</td>\n",
       "      <td>0</td>\n",
       "      <td>0</td>\n",
       "      <td>0</td>\n",
       "      <td>0</td>\n",
       "      <td>0</td>\n",
       "      <td>0</td>\n",
       "      <td>0</td>\n",
       "      <td>0</td>\n",
       "      <td>0</td>\n",
       "    </tr>\n",
       "  </tbody>\n",
       "</table>\n",
       "<p>5 rows × 6008 columns</p>\n",
       "</div>"
      ],
      "text/plain": [
       "        is_duplicate  q1_len  q2_len  q1_num_words  q2_num_words  word_common  \\\n",
       "367910             0      37   104.0             5            16            1   \n",
       "84933              0      45    50.0             8             9            2   \n",
       "361498             0      91    58.0            15            10            4   \n",
       "16126              0      78    43.0            14             9            2   \n",
       "283887             1      60    55.0            10            10            5   \n",
       "\n",
       "        word_total  word_share  0  1  ...  2990  2991  2992  2993  2994  2995  \\\n",
       "367910          19        0.05  0  0  ...     0     0     0     0     0     0   \n",
       "84933           16        0.12  0  0  ...     0     0     0     0     0     0   \n",
       "361498          25        0.16  0  0  ...     0     0     0     0     0     0   \n",
       "16126           22        0.09  0  0  ...     0     0     0     0     0     0   \n",
       "283887          20        0.25  0  0  ...     0     0     0     0     0     0   \n",
       "\n",
       "        2996  2997  2998  2999  \n",
       "367910     0     0     0     0  \n",
       "84933      0     0     0     0  \n",
       "361498     0     0     0     0  \n",
       "16126      0     0     0     0  \n",
       "283887     0     0     0     0  \n",
       "\n",
       "[5 rows x 6008 columns]"
      ]
     },
     "execution_count": 48,
     "metadata": {},
     "output_type": "execute_result"
    }
   ],
   "source": [
    "final_df = pd.concat([final_df, temp_df], axis=1)\n",
    "print(final_df.shape)\n",
    "final_df.head()"
   ]
  },
  {
   "cell_type": "code",
   "execution_count": 49,
   "id": "40a355a0",
   "metadata": {},
   "outputs": [],
   "source": [
    "from sklearn.model_selection import train_test_split\n",
    "X_train,X_test,y_train,y_test = train_test_split(final_df.iloc[:,1:].values,final_df.iloc[:,0].values,test_size=0.2,random_state=1)"
   ]
  },
  {
   "cell_type": "code",
   "execution_count": 51,
   "id": "d74ff09a",
   "metadata": {},
   "outputs": [],
   "source": [
    "from sklearn.ensemble import RandomForestClassifier\n",
    "from sklearn.metrics import accuracy_score\n",
    "from sklearn.impute import SimpleImputer\n",
    "\n",
    "# Instantiate a SimpleImputer with a strategy to handle missing values\n",
    "imputer = SimpleImputer(strategy='mean')\n",
    "\n",
    "# Fit the imputer on the training data and transform both training and testing data\n",
    "X_train_imputed = imputer.fit_transform(X_train)\n",
    "X_test_imputed = imputer.transform(X_test)\n",
    "\n",
    "# Instantiate and train the RandomForestClassifier\n",
    "rf = RandomForestClassifier()\n",
    "rf.fit(X_train_imputed, y_train)\n",
    "\n",
    "# Make predictions on the test data\n",
    "y_pred = rf.predict(X_test_imputed)\n",
    "\n",
    "# Calculate the accuracy of the predictions\n",
    "accuracy = accuracy_score(y_test, y_pred)\n"
   ]
  },
  {
   "cell_type": "code",
   "execution_count": 52,
   "id": "18a17538",
   "metadata": {},
   "outputs": [
    {
     "name": "stdout",
     "output_type": "stream",
     "text": [
      "Accuracy: 0.7586666666666667\n"
     ]
    }
   ],
   "source": [
    "print(\"Accuracy:\", accuracy)\n"
   ]
  },
  {
   "cell_type": "code",
   "execution_count": 54,
   "id": "91663789",
   "metadata": {},
   "outputs": [
    {
     "name": "stdout",
     "output_type": "stream",
     "text": [
      "Collecting xgboostNote: you may need to restart the kernel to use updated packages.\n",
      "\n",
      "  Downloading xgboost-2.0.3-py3-none-win_amd64.whl (99.8 MB)\n",
      "     ---------------------------------------- 99.8/99.8 MB 4.9 MB/s eta 0:00:00\n",
      "Requirement already satisfied: numpy in c:\\users\\dell\\anaconda3\\lib\\site-packages (from xgboost) (1.23.5)\n",
      "Requirement already satisfied: scipy in c:\\users\\dell\\anaconda3\\lib\\site-packages (from xgboost) (1.10.0)\n",
      "Installing collected packages: xgboost\n",
      "Successfully installed xgboost-2.0.3\n"
     ]
    }
   ],
   "source": [
    "pip install xgboost"
   ]
  },
  {
   "cell_type": "code",
   "execution_count": 55,
   "id": "1dc22b9f",
   "metadata": {},
   "outputs": [
    {
     "data": {
      "text/plain": [
       "0.7606666666666667"
      ]
     },
     "execution_count": 55,
     "metadata": {},
     "output_type": "execute_result"
    }
   ],
   "source": [
    "from xgboost import XGBClassifier\n",
    "xgb = XGBClassifier()\n",
    "xgb.fit(X_train,y_train)\n",
    "y_pred = xgb.predict(X_test)\n",
    "accuracy_score(y_test,y_pred)"
   ]
  },
  {
   "cell_type": "markdown",
   "id": "8d795fbb",
   "metadata": {},
   "source": [
    "#### Advanced Features\n",
    "###### 1. Token Features\n",
    "- cwc_min: This is the ratio of the number of common words to the length of the smaller question\n",
    "- cwc_max: This is the ratio of the number of common words to the length of the larger question\n",
    "- csc_min: This is the ratio of the number of common stop words to the smaller stop word count among the two questions\n",
    "- csc_max: This is the ratio of the number of common stop words to the larger stop word count among the two questions\n",
    "- ctc_min: This is the ratio of the number of common tokens to the smaller token count among the two questions\n",
    "- ctc_max: This is the ratio of the number of common tokens to the larger token count among the two questions\n",
    "- last_word_eq: 1 if the last word in the two questions is same, 0 otherwise\n",
    "- first_word_eq: 1 if the first word in the two questions is same, 0 otherwise\n",
    "\n",
    "###### 2. Length Based Features\n",
    "\n",
    "- mean_len: Mean of the length of the two questions (number of words)\n",
    "- abs_len_diff: Absolute difference between the length of the two questions (number of words)\n",
    "- longest_substr_ratio: Ratio of the length of the longest substring among the two questions to the length of the smaller question\n",
    "\n",
    "###### 3. Fuzzy Features\n",
    "- fuzz_ratio: fuzz_ratio score from fuzzywuzzy\n",
    "- fuzz_partial_ratio: fuzz_partial_ratio from fuzzywuzzy\n",
    "- token_sort_ratio: token_sort_ratio from fuzzywuzzy\n",
    "- token_set_ratio: token_set_ratio from fuzzywuzzy"
   ]
  },
  {
   "cell_type": "code",
   "execution_count": null,
   "id": "aa63ecaf",
   "metadata": {},
   "outputs": [],
   "source": []
  }
 ],
 "metadata": {
  "kernelspec": {
   "display_name": "Python 3 (ipykernel)",
   "language": "python",
   "name": "python3"
  },
  "language_info": {
   "codemirror_mode": {
    "name": "ipython",
    "version": 3
   },
   "file_extension": ".py",
   "mimetype": "text/x-python",
   "name": "python",
   "nbconvert_exporter": "python",
   "pygments_lexer": "ipython3",
   "version": "3.10.9"
  }
 },
 "nbformat": 4,
 "nbformat_minor": 5
}
